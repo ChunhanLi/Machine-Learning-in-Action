{
 "cells": [
  {
   "cell_type": "markdown",
   "metadata": {},
   "source": [
    "#### 这是草稿版本，用来学习和测试的，请看另外版本。"
   ]
  },
  {
   "cell_type": "code",
   "execution_count": 1,
   "metadata": {},
   "outputs": [],
   "source": [
    "import matplotlib.pyplot as plt\n",
    "import pandas as pd\n",
    "import numpy as np\n",
    "%matplotlib inline"
   ]
  },
  {
   "cell_type": "code",
   "execution_count": 2,
   "metadata": {},
   "outputs": [],
   "source": [
    "def loadDataSet(filename):\n",
    "    ### get dataset\n",
    "    dataMat=[]\n",
    "    labelMat=[]\n",
    "    with open('testSet.txt') as f:\n",
    "        for line in f.readlines():\n",
    "            linestrip = line.strip().split('\\t')\n",
    "            dataMat.append([float(linestrip[0]), float(linestrip[1])])\n",
    "            labelMat.append(float(linestrip[2]))\n",
    "    return dataMat, labelMat"
   ]
  },
  {
   "cell_type": "code",
   "execution_count": 75,
   "metadata": {},
   "outputs": [],
   "source": [
    "data,label = loadDataSet('testSet.txt')"
   ]
  },
  {
   "cell_type": "code",
   "execution_count": 78,
   "metadata": {
    "scrolled": true
   },
   "outputs": [],
   "source": [
    "data = np.array(data)"
   ]
  },
  {
   "cell_type": "code",
   "execution_count": 79,
   "metadata": {},
   "outputs": [],
   "source": [
    "label=np.array(label)"
   ]
  },
  {
   "cell_type": "code",
   "execution_count": 37,
   "metadata": {},
   "outputs": [],
   "source": [
    "b=0"
   ]
  },
  {
   "cell_type": "code",
   "execution_count": 40,
   "metadata": {},
   "outputs": [],
   "source": [
    "m,n = np.shape(dataMatrix)"
   ]
  },
  {
   "cell_type": "code",
   "execution_count": 51,
   "metadata": {},
   "outputs": [],
   "source": [
    "alphas = np.mat(np.zeros((10,1)))"
   ]
  },
  {
   "cell_type": "code",
   "execution_count": 5,
   "metadata": {},
   "outputs": [],
   "source": [
    "from sklearn.svm import SVC"
   ]
  },
  {
   "cell_type": "code",
   "execution_count": 7,
   "metadata": {},
   "outputs": [],
   "source": [
    "?SVC"
   ]
  },
  {
   "cell_type": "code",
   "execution_count": 12,
   "metadata": {},
   "outputs": [
    {
     "data": {
      "text/plain": [
       "(100, 2)"
      ]
     },
     "execution_count": 12,
     "metadata": {},
     "output_type": "execute_result"
    }
   ],
   "source": [
    "data.shape"
   ]
  },
  {
   "cell_type": "code",
   "execution_count": 20,
   "metadata": {},
   "outputs": [
    {
     "data": {
      "text/plain": [
       "(10,)"
      ]
     },
     "execution_count": 20,
     "metadata": {},
     "output_type": "execute_result"
    }
   ],
   "source": [
    "np.zeros(10).shape"
   ]
  },
  {
   "cell_type": "code",
   "execution_count": 21,
   "metadata": {},
   "outputs": [],
   "source": [
    "a = np.array([[1,2],[1,2]])"
   ]
  },
  {
   "cell_type": "code",
   "execution_count": 22,
   "metadata": {},
   "outputs": [
    {
     "data": {
      "text/plain": [
       "array([[1, 4],\n",
       "       [1, 4]])"
      ]
     },
     "execution_count": 22,
     "metadata": {},
     "output_type": "execute_result"
    }
   ],
   "source": [
    "a * a "
   ]
  },
  {
   "cell_type": "code",
   "execution_count": 23,
   "metadata": {},
   "outputs": [
    {
     "data": {
      "text/plain": [
       "array([[3, 6],\n",
       "       [3, 6]])"
      ]
     },
     "execution_count": 23,
     "metadata": {},
     "output_type": "execute_result"
    }
   ],
   "source": [
    "a @ a"
   ]
  },
  {
   "cell_type": "code",
   "execution_count": 37,
   "metadata": {},
   "outputs": [],
   "source": [
    "b = np.array([1,2])"
   ]
  },
  {
   "cell_type": "code",
   "execution_count": 38,
   "metadata": {},
   "outputs": [
    {
     "data": {
      "text/plain": [
       "1"
      ]
     },
     "execution_count": 38,
     "metadata": {},
     "output_type": "execute_result"
    }
   ],
   "source": [
    "b[0]"
   ]
  },
  {
   "cell_type": "code",
   "execution_count": 27,
   "metadata": {},
   "outputs": [
    {
     "data": {
      "text/plain": [
       "(2,)"
      ]
     },
     "execution_count": 27,
     "metadata": {},
     "output_type": "execute_result"
    }
   ],
   "source": [
    "b.shape"
   ]
  },
  {
   "cell_type": "code",
   "execution_count": 32,
   "metadata": {},
   "outputs": [
    {
     "data": {
      "text/plain": [
       "5"
      ]
     },
     "execution_count": 32,
     "metadata": {},
     "output_type": "execute_result"
    }
   ],
   "source": [
    "b.T @ b"
   ]
  },
  {
   "cell_type": "code",
   "execution_count": 170,
   "metadata": {},
   "outputs": [],
   "source": [
    "class SVM():\n",
    "    def __init__(self, kernel='linear', epsilon = 0.001, C = 1.0):\n",
    "        \"\"\"\n",
    "        C:惩罚系数\n",
    "        \"\"\"\n",
    "        self.kernel = kernel\n",
    "        self.C = C\n",
    "        self.epsilon = epsilon\n",
    "    \n",
    "    def _init_parameters(self, features, labels):\n",
    "        \"\"\"\n",
    "        (features,labels)  np.array\n",
    "        \n",
    "        \"\"\"\n",
    "        self.X = features\n",
    "        self.Y = labels\n",
    "        self.b = 0.0\n",
    "        self.n = features.shape[0]\n",
    "        self.p = features.shape[1]\n",
    "        self.alpha = np.zeros(self.n)\n",
    "        self.E = [self._get_E(i) for i in range(self.n)]\n",
    "        self.Max_iteration = 20000\n",
    "    \n",
    "    def _gx(self,i):\n",
    "        \"\"\"\n",
    "        i: 第i+1个样本(start from 0 and end with N-1)\n",
    "        \"\"\"\n",
    "        g_x_i = (self.alpha * self.Y).T @ (self.X @ self.X[i,:]) + self.b\n",
    "        return g_x_i\n",
    "    \n",
    "    def _get_E(self,i):\n",
    "        \"\"\"\n",
    "        i: 第i+1个样本(start from 0 and end with N-1)\n",
    "        \"\"\"\n",
    "        E_i = self._gx(i) - self.Y[i]\n",
    "        return E_i\n",
    "    \n",
    "    def _satisfy_KKT(self, i):\n",
    "        ygx = self.Y[i] * self._gx(i)\n",
    "        if abs(self.alpha[i]) <= self.epsilon:\n",
    "            return ygx >= 1\n",
    "        elif abs(self.alpha[i] - self.C) <= self.epsilon:\n",
    "            return ygx <= 1\n",
    "        else:\n",
    "            return abs(ygx-1) <= self.epsilon\n",
    "        \n",
    "    def is_stop(self):\n",
    "        for i in range(self.n):\n",
    "            satisfy = self._satisfy_KKT(i)\n",
    "            \n",
    "            if not satisfy:\n",
    "                return False\n",
    "        return True\n",
    "    \n",
    "    def _select_two_alpha(self):\n",
    "        index_i = list(range(self.n))\n",
    "        i_list_1 = list(filter(lambda i: self.alpha[i] > 0 + self.epsilon and self.alpha[i] < self.C - self.epsilon, index_i))\n",
    "        i_list_2 = list(set(index_i) - set(i_list_1))\n",
    "                \n",
    "        for i in i_list_1:\n",
    "            ### 第一步\n",
    "            if self._satisfy_KKT(i):\n",
    "                continue\n",
    "            E_1 = self._get_E(i)\n",
    "            E2_E1 = np.abs(self.E - E_1)\n",
    "            j = E2_E1.argmax()\n",
    "            #print(i,j)\n",
    "            return i, j\n",
    "        for i in i_list_2:\n",
    "            if self._satisfy_KKT(i):\n",
    "                continue\n",
    "            E_1 = self._get_E(i)\n",
    "            E2_E1 = np.abs(self.E - E_1)\n",
    "            j = E2_E1.argmax()\n",
    "            #print(i,j)\n",
    "            return i, j\n",
    "        \n",
    "#             j_max = 999\n",
    "#             diff_max\n",
    "#             ### 第二步\n",
    "#             for j in index_i:\n",
    "#                 if i == j:\n",
    "#                     continue\n",
    "#                 E_2 = self._get_E(j)\n",
    "#                 diff = abs(E_2 - E_1)\n",
    "#                 if diff > diff_max:\n",
    "#                     diff_max = diff\n",
    "#                     j_max = j\n",
    "#             return i, j_max\n",
    "    \n",
    "#     def _K_(self):\n",
    "#         \"\"\"\n",
    "#         暂时先不考虑核函数\n",
    "#         \"\"\"\n",
    "    def train(self, features, labels):\n",
    "        \n",
    "        self._init_parameters(features, labels)\n",
    "        for times in range(self.Max_iteration):\n",
    "            #print(times)\n",
    "            if self.is_stop():\n",
    "                break\n",
    "            i1, i2 = self._select_two_alpha()\n",
    "            \n",
    "            if self.Y[i1] == self.Y[i2]:\n",
    "                L = max(0, self.alpha[i2] + self.alpha[i1] - self.C)\n",
    "                H = min(self.C, self.alpha[i2] + self.alpha[i1])\n",
    "            else:\n",
    "                L = max(0, self.alpha[i2] - self.alpha[i1])\n",
    "                H = min(self.C, self.C + self.alpha[i2] - self.alpha[i1])\n",
    "            E1 = self.E[i1]\n",
    "            E2 = self.E[i2]\n",
    "            ###要改kernel这里得改\n",
    "            eta = self.X[i1,:] @ self.X[i1,:] + self.X[i2,:] @ self.X[i2,:] -2 * self.X[i1,:] @ self.X[i2,:]\n",
    "            alpha2_new_unre = self.alpha[i2] + self.Y[i2] * (E1 - E2) / eta\n",
    "            \n",
    "            if alpha2_new_unre > H:\n",
    "                alpha2_new = H\n",
    "            elif alpha2_new_unre < L:\n",
    "                alpha2_new = L\n",
    "            else:\n",
    "                alpha2_new = alpha2_new_unre\n",
    "            alpha1_new = self.alpha[i1] + self.Y[i1] * self.Y[i2] * (self.alpha[i2] - alpha2_new)\n",
    "            \n",
    "            \n",
    "            ###要改kernel这里得改\n",
    "            b1_new = -E1 - self.Y[i1]* (self.X[i1,:] @ self.X[i1,:]) * (alpha1_new - self.alpha[i1]) - \\\n",
    "                    self.Y[i2] * (self.X[i2,:] @ self.X[i1,:]) * (alpha2_new - self.alpha[i2]) + self.b \n",
    "            ###要改kernel这里得改\n",
    "            b2_new = -E2 - self.Y[i1]* (self.X[i1,:] @ self.X[i2,:]) * (alpha1_new - self.alpha[i1]) - \\\n",
    "                    self.Y[i2] * (self.X[i2,:] @ self.X[i2,:]) * (alpha2_new - self.alpha[i2]) + self.b \n",
    "            \n",
    "            if alpha1_new > 0 + self.epsilon and alpha1_new < self.C - self.epsilon:\n",
    "                b_new = b1_new\n",
    "            elif alpha2_new > 0 + self.epsilon and alpha2_new < self.C - self.epsilon:\n",
    "                b_new = b2_new\n",
    "            else:\n",
    "                b_new = (b1_new + b2_new)/2\n",
    "            \n",
    "            self.alpha[i1] = alpha1_new\n",
    "            self.alpha[i2] = alpha2_new\n",
    "            self.b = b_new\n",
    "            ### 和原博主不一样\n",
    "            self.E = [self._get_E(i) for i in range(self.n)]\n",
    "        #print(times)\n",
    "    \n",
    "    def _predict_(self, feature):\n",
    "        \"\"\"\n",
    "        这里feature是p X 1 维的 （单个样本）\n",
    "        \"\"\"\n",
    "        result = (self.alpha * self.Y).T @ (self.X @ feature) + self.b\n",
    "        if result >=0 :\n",
    "            return 1\n",
    "        return -1\n",
    "    def predict(self, features):\n",
    "        results = []\n",
    "        \n",
    "        for i in range(features.shape[0]):\n",
    "            results.append(self._predict_(features[i,:]))\n",
    "        return np.array(results)"
   ]
  },
  {
   "cell_type": "code",
   "execution_count": 178,
   "metadata": {},
   "outputs": [],
   "source": [
    "from sklearn.model_selection import train_test_split\n",
    "from sklearn.svm import SVC"
   ]
  },
  {
   "cell_type": "code",
   "execution_count": 179,
   "metadata": {},
   "outputs": [],
   "source": [
    "X_train, X_test, y_train, y_test = train_test_split(data, label, test_size = 0.3, random_state = 1103)"
   ]
  },
  {
   "cell_type": "code",
   "execution_count": 180,
   "metadata": {},
   "outputs": [],
   "source": [
    "SVM_my = SVM()\n",
    "SVC_sk = SVC()"
   ]
  },
  {
   "cell_type": "code",
   "execution_count": 181,
   "metadata": {},
   "outputs": [],
   "source": [
    "import warnings\n",
    "warnings.filterwarnings(\"ignore\")"
   ]
  },
  {
   "cell_type": "code",
   "execution_count": 182,
   "metadata": {},
   "outputs": [
    {
     "name": "stdout",
     "output_type": "stream",
     "text": [
      "19999\n",
      "19999\n",
      "19999\n",
      "19999\n",
      "19999\n",
      "19999\n",
      "19999\n",
      "19999\n",
      "7.2 s ± 194 ms per loop (mean ± std. dev. of 7 runs, 1 loop each)\n"
     ]
    }
   ],
   "source": [
    "%timeit SVM_my.train(X_train, y_train)\n",
    "result_my = SVM_my.predict(X_test)"
   ]
  },
  {
   "cell_type": "code",
   "execution_count": 183,
   "metadata": {},
   "outputs": [
    {
     "name": "stdout",
     "output_type": "stream",
     "text": [
      "416 µs ± 9.22 µs per loop (mean ± std. dev. of 7 runs, 1000 loops each)\n"
     ]
    }
   ],
   "source": [
    "%timeit SVC_sk.fit(X_train, y_train)\n",
    "result_sk = SVC_sk.predict(X_test)"
   ]
  },
  {
   "cell_type": "code",
   "execution_count": 184,
   "metadata": {},
   "outputs": [
    {
     "data": {
      "text/plain": [
       "array([ True,  True,  True,  True,  True,  True,  True,  True,  True,\n",
       "        True,  True,  True,  True,  True,  True,  True,  True,  True,\n",
       "        True,  True,  True,  True,  True,  True,  True,  True,  True,\n",
       "        True,  True,  True])"
      ]
     },
     "execution_count": 184,
     "metadata": {},
     "output_type": "execute_result"
    }
   ],
   "source": [
    "result_sk == result_my"
   ]
  }
 ],
 "metadata": {
  "kernelspec": {
   "display_name": "Python 3",
   "language": "python",
   "name": "python3"
  },
  "language_info": {
   "codemirror_mode": {
    "name": "ipython",
    "version": 3
   },
   "file_extension": ".py",
   "mimetype": "text/x-python",
   "name": "python",
   "nbconvert_exporter": "python",
   "pygments_lexer": "ipython3",
   "version": "3.7.2"
  }
 },
 "nbformat": 4,
 "nbformat_minor": 2
}
