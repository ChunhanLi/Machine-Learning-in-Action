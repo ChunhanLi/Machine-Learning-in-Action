{
 "cells": [
  {
   "cell_type": "code",
   "execution_count": 1,
   "metadata": {
    "collapsed": true
   },
   "outputs": [],
   "source": [
    "import numpy as np"
   ]
  },
  {
   "cell_type": "code",
   "execution_count": 2,
   "metadata": {
    "collapsed": true
   },
   "outputs": [],
   "source": [
    "def createDataSet():\n",
    "    group = np.array([[1, 1.1], [1, 1], [0,0], [0,0.1]])\n",
    "    labels = ['A', 'A', 'B', 'B']\n",
    "    return group , labels"
   ]
  },
  {
   "cell_type": "code",
   "execution_count": 3,
   "metadata": {
    "collapsed": true
   },
   "outputs": [],
   "source": [
    "###%save kNN.py 1-2"
   ]
  },
  {
   "cell_type": "code",
   "execution_count": 4,
   "metadata": {
    "collapsed": true
   },
   "outputs": [],
   "source": [
    "import kNN"
   ]
  },
  {
   "cell_type": "code",
   "execution_count": 5,
   "metadata": {
    "collapsed": true
   },
   "outputs": [],
   "source": [
    "group , labels = kNN.createDataSet()"
   ]
  },
  {
   "cell_type": "markdown",
   "metadata": {},
   "source": [
    "np.tile作用"
   ]
  },
  {
   "cell_type": "code",
   "execution_count": 6,
   "metadata": {},
   "outputs": [
    {
     "data": {
      "text/plain": [
       "array([0, 0, 0, 0, 0, 0, 0, 0, 0, 0])"
      ]
     },
     "execution_count": 6,
     "metadata": {},
     "output_type": "execute_result"
    }
   ],
   "source": [
    "np.tile([0,0],5)###1方向重复5次"
   ]
  },
  {
   "cell_type": "code",
   "execution_count": 7,
   "metadata": {
    "scrolled": true
   },
   "outputs": [
    {
     "data": {
      "text/plain": [
       "array([[0, 0, 0, 0],\n",
       "       [0, 0, 0, 0],\n",
       "       [0, 0, 0, 0]])"
      ]
     },
     "execution_count": 7,
     "metadata": {},
     "output_type": "execute_result"
    }
   ],
   "source": [
    "np.tile([0,0],(3,2))###行3 列2"
   ]
  },
  {
   "cell_type": "markdown",
   "metadata": {},
   "source": [
    "np.argsort()"
   ]
  },
  {
   "cell_type": "code",
   "execution_count": 8,
   "metadata": {
    "collapsed": true
   },
   "outputs": [],
   "source": [
    "?np.argsort()"
   ]
  },
  {
   "cell_type": "code",
   "execution_count": 9,
   "metadata": {},
   "outputs": [
    {
     "data": {
      "text/plain": [
       "array([1, 2, 0], dtype=int64)"
      ]
     },
     "execution_count": 9,
     "metadata": {},
     "output_type": "execute_result"
    }
   ],
   "source": [
    "np.argsort([5,3,4])###从左到右 返回的是从小到大值的index"
   ]
  },
  {
   "cell_type": "code",
   "execution_count": 10,
   "metadata": {},
   "outputs": [
    {
     "data": {
      "text/plain": [
       "array([[ 1. ,  1.1],\n",
       "       [ 1. ,  1. ],\n",
       "       [ 0. ,  0. ],\n",
       "       [ 0. ,  0.1]])"
      ]
     },
     "execution_count": 10,
     "metadata": {},
     "output_type": "execute_result"
    }
   ],
   "source": [
    "group"
   ]
  },
  {
   "cell_type": "code",
   "execution_count": 11,
   "metadata": {},
   "outputs": [
    {
     "data": {
      "text/plain": [
       "['A', 'A', 'B', 'B']"
      ]
     },
     "execution_count": 11,
     "metadata": {},
     "output_type": "execute_result"
    }
   ],
   "source": [
    "labels"
   ]
  },
  {
   "cell_type": "code",
   "execution_count": 12,
   "metadata": {
    "collapsed": true
   },
   "outputs": [],
   "source": [
    "inx=np.array([1,1.5])"
   ]
  },
  {
   "cell_type": "code",
   "execution_count": 13,
   "metadata": {
    "collapsed": true
   },
   "outputs": [],
   "source": [
    "diffmat=np.tile(inx,(group.shape[0],1))-group"
   ]
  },
  {
   "cell_type": "code",
   "execution_count": 14,
   "metadata": {},
   "outputs": [
    {
     "data": {
      "text/plain": [
       "array([[ 0. ,  0.4],\n",
       "       [ 0. ,  0.5],\n",
       "       [ 1. ,  1.5],\n",
       "       [ 1. ,  1.4]])"
      ]
     },
     "execution_count": 14,
     "metadata": {},
     "output_type": "execute_result"
    }
   ],
   "source": [
    "diffmat"
   ]
  },
  {
   "cell_type": "code",
   "execution_count": 15,
   "metadata": {
    "collapsed": true
   },
   "outputs": [],
   "source": [
    "sqdiffmat=diffmat**2"
   ]
  },
  {
   "cell_type": "code",
   "execution_count": 16,
   "metadata": {},
   "outputs": [
    {
     "data": {
      "text/plain": [
       "array([[ 0.  ,  0.16],\n",
       "       [ 0.  ,  0.25],\n",
       "       [ 1.  ,  2.25],\n",
       "       [ 1.  ,  1.96]])"
      ]
     },
     "execution_count": 16,
     "metadata": {},
     "output_type": "execute_result"
    }
   ],
   "source": [
    "sqdiffmat"
   ]
  },
  {
   "cell_type": "code",
   "execution_count": 17,
   "metadata": {
    "collapsed": true
   },
   "outputs": [],
   "source": [
    "sqdiffmat=sqdiffmat.sum(1)"
   ]
  },
  {
   "cell_type": "code",
   "execution_count": 18,
   "metadata": {},
   "outputs": [
    {
     "data": {
      "text/plain": [
       "array([ 0.16,  0.25,  3.25,  2.96])"
      ]
     },
     "execution_count": 18,
     "metadata": {},
     "output_type": "execute_result"
    }
   ],
   "source": [
    "sqdiffmat"
   ]
  },
  {
   "cell_type": "code",
   "execution_count": 19,
   "metadata": {
    "collapsed": true
   },
   "outputs": [],
   "source": [
    "distance=sqdiffmat**0.5"
   ]
  },
  {
   "cell_type": "code",
   "execution_count": 20,
   "metadata": {},
   "outputs": [
    {
     "data": {
      "text/plain": [
       "array([ 0.4       ,  0.5       ,  1.80277564,  1.72046505])"
      ]
     },
     "execution_count": 20,
     "metadata": {},
     "output_type": "execute_result"
    }
   ],
   "source": [
    "distance"
   ]
  },
  {
   "cell_type": "code",
   "execution_count": 21,
   "metadata": {
    "collapsed": true
   },
   "outputs": [],
   "source": [
    "order=distance.argsort()"
   ]
  },
  {
   "cell_type": "code",
   "execution_count": 22,
   "metadata": {
    "collapsed": true
   },
   "outputs": [],
   "source": [
    "from collections import defaultdict"
   ]
  },
  {
   "cell_type": "code",
   "execution_count": 23,
   "metadata": {
    "collapsed": true
   },
   "outputs": [],
   "source": [
    "dict1 = defaultdict(lambda:0)"
   ]
  },
  {
   "cell_type": "code",
   "execution_count": 24,
   "metadata": {
    "collapsed": true
   },
   "outputs": [],
   "source": [
    "k=3"
   ]
  },
  {
   "cell_type": "code",
   "execution_count": 25,
   "metadata": {
    "collapsed": true
   },
   "outputs": [],
   "source": [
    "for i in range(k):\n",
    "    dict1[labels[order[i]]]+=1\n",
    "    "
   ]
  },
  {
   "cell_type": "code",
   "execution_count": 26,
   "metadata": {},
   "outputs": [
    {
     "data": {
      "text/plain": [
       "defaultdict(<function __main__.<lambda>>, {'A': 2, 'B': 1})"
      ]
     },
     "execution_count": 26,
     "metadata": {},
     "output_type": "execute_result"
    }
   ],
   "source": [
    "dict1"
   ]
  },
  {
   "cell_type": "code",
   "execution_count": 27,
   "metadata": {
    "collapsed": true
   },
   "outputs": [],
   "source": [
    "dict2={'a':13,'d':31,'df':3}"
   ]
  },
  {
   "cell_type": "code",
   "execution_count": 28,
   "metadata": {},
   "outputs": [
    {
     "data": {
      "text/plain": [
       "[('df', 3), ('a', 13), ('d', 31)]"
      ]
     },
     "execution_count": 28,
     "metadata": {},
     "output_type": "execute_result"
    }
   ],
   "source": [
    "sorted(dict2.items(),key=lambda x:x[1])"
   ]
  },
  {
   "cell_type": "code",
   "execution_count": 29,
   "metadata": {
    "collapsed": true
   },
   "outputs": [],
   "source": [
    "import operator"
   ]
  },
  {
   "cell_type": "code",
   "execution_count": 30,
   "metadata": {},
   "outputs": [
    {
     "data": {
      "text/plain": [
       "[('df', 3), ('a', 13), ('d', 31)]"
      ]
     },
     "execution_count": 30,
     "metadata": {},
     "output_type": "execute_result"
    }
   ],
   "source": [
    "sorted(dict2.items(), key = operator.itemgetter(1))"
   ]
  },
  {
   "cell_type": "code",
   "execution_count": 31,
   "metadata": {},
   "outputs": [
    {
     "data": {
      "text/plain": [
       "'A'"
      ]
     },
     "execution_count": 31,
     "metadata": {},
     "output_type": "execute_result"
    }
   ],
   "source": [
    "sorted(dict1.items(),key=lambda x:x[1],reverse=True)[0][0]"
   ]
  },
  {
   "cell_type": "code",
   "execution_count": 32,
   "metadata": {
    "collapsed": true
   },
   "outputs": [],
   "source": [
    "def classify0(inx,dataset,labels,k):\n",
    "    diffmat = np.tile(inx,(dataset.shape[0],1)) - dataset\n",
    "    square_diff=diffmat**2\n",
    "    sum_diff=square_diff.sum(1)\n",
    "    distances=sum_diff**0.5\n",
    "    order_index = distances.argsort()\n",
    "    dict1=defaultdict(lambda:0)\n",
    "    for i in range(k):\n",
    "        dict1[labels[order_index[i]]]+=1\n",
    "    sort_label=sorted(dict1.items(),key=lambda x:x[1],reverse=True)\n",
    "    return sort_label[0][0]"
   ]
  },
  {
   "cell_type": "code",
   "execution_count": 33,
   "metadata": {},
   "outputs": [
    {
     "data": {
      "text/plain": [
       "'C:\\\\Users\\\\49928\\\\Desktop\\\\Machine-Learning-in-Action\\\\CH 2'"
      ]
     },
     "execution_count": 33,
     "metadata": {},
     "output_type": "execute_result"
    }
   ],
   "source": [
    "pwd()"
   ]
  },
  {
   "cell_type": "code",
   "execution_count": 34,
   "metadata": {
    "collapsed": true
   },
   "outputs": [],
   "source": [
    "import os"
   ]
  },
  {
   "cell_type": "code",
   "execution_count": 35,
   "metadata": {
    "collapsed": true
   },
   "outputs": [],
   "source": [
    "os.chdir(r'C:\\Users\\49928\\Desktop\\Machine-Learning-in-Action')"
   ]
  },
  {
   "cell_type": "code",
   "execution_count": 36,
   "metadata": {
    "collapsed": true
   },
   "outputs": [],
   "source": [
    "with open('./resources/machinelearninginaction/Ch02/datingTestSet.txt') as file:\n",
    "    a = [line.strip() for i,line in enumerate(file) ]"
   ]
  },
  {
   "cell_type": "code",
   "execution_count": 37,
   "metadata": {
    "collapsed": true
   },
   "outputs": [],
   "source": [
    "def file2matrix(filename):\n",
    "    classLabel = []\n",
    "    returnmat = np.zeros((1000,3))\n",
    "    index = 0\n",
    "    with open(filename,'r') as file1:\n",
    "        for line in file1:\n",
    "            aa = line.strip().split('\\t')\n",
    "            list_line = aa[:3]\n",
    "            list_line = list(map(lambda x:float(x), list_line))\n",
    "            returnmat[index, :] = list_line\n",
    "            classLabel.append(aa[-1])\n",
    "            index +=1\n",
    "    return returnmat, classLabel"
   ]
  },
  {
   "cell_type": "code",
   "execution_count": 38,
   "metadata": {},
   "outputs": [],
   "source": [
    "a,b=file2matrix('./resources/machinelearninginaction/Ch02/datingTestSet.txt')"
   ]
  },
  {
   "cell_type": "code",
   "execution_count": 39,
   "metadata": {},
   "outputs": [
    {
     "data": {
      "text/plain": [
       "array(['didntLike', 'largeDoses', 'smallDoses'],\n",
       "      dtype='<U10')"
      ]
     },
     "execution_count": 39,
     "metadata": {},
     "output_type": "execute_result"
    }
   ],
   "source": [
    "np.unique(b)"
   ]
  },
  {
   "cell_type": "code",
   "execution_count": 40,
   "metadata": {},
   "outputs": [
    {
     "data": {
      "text/plain": [
       "{'didntLike': 1, 'largeDoses': 2, 'smallDoses': 3}"
      ]
     },
     "execution_count": 40,
     "metadata": {},
     "output_type": "execute_result"
    }
   ],
   "source": [
    "dict_1 ={}\n",
    "for i,name in enumerate(np.unique(b)):\n",
    "    dict_1[name] = i+1\n",
    "dict_1"
   ]
  },
  {
   "cell_type": "code",
   "execution_count": 41,
   "metadata": {
    "collapsed": true
   },
   "outputs": [],
   "source": [
    "for i,index in enumerate(b):\n",
    "    b[i] = dict_1[index]"
   ]
  },
  {
   "cell_type": "code",
   "execution_count": 42,
   "metadata": {
    "collapsed": true
   },
   "outputs": [],
   "source": [
    "def autoNorm(dataSet):\n",
    "    minvals = dataSet.min(0)\n",
    "    maxvals = dataSet.max(0)\n",
    "    ranges = maxvals - minvals\n",
    "    normDataset = (dataSet - minvals)/ranges\n",
    "    return normDataset, ranges, minvals"
   ]
  },
  {
   "cell_type": "code",
   "execution_count": 43,
   "metadata": {
    "collapsed": true
   },
   "outputs": [],
   "source": [
    "def datingclasstest(k, ratio = 0.1):\n",
    "    data_all, labels = file2matrix('./resources/machinelearninginaction/Ch02/datingTestSet.txt')\n",
    "    normmat, ranges, minvals = autoNorm(data_all)\n",
    "    m = normmat.shape[0]\n",
    "    Ind = np.arange(m)\n",
    "    np.random.shuffle(Ind)\n",
    "    test_size = int(m*ratio)\n",
    "    test_data = normmat[Ind[:test_size],:]\n",
    "    train_data = normmat[Ind[test_size:],:]\n",
    "    label_train = [labels[i] for i in Ind[test_size:]]\n",
    "    label_test = [labels[i] for i in Ind[:test_size]]\n",
    "    error_count = 0\n",
    "    for i in range(test_size):\n",
    "        class_result = classify0(test_data[i,:],train_data,label_train,k)\n",
    "        #print(f'the classifier came back with :{class_result},the real one is{label_test[i]}')\n",
    "        if class_result != label_test[i]:\n",
    "            error_count +=1\n",
    "    return error_count/test_size"
   ]
  },
  {
   "cell_type": "code",
   "execution_count": 44,
   "metadata": {},
   "outputs": [
    {
     "data": {
      "text/plain": [
       "0.03"
      ]
     },
     "execution_count": 44,
     "metadata": {},
     "output_type": "execute_result"
    }
   ],
   "source": [
    "datingclasstest(6)"
   ]
  },
  {
   "cell_type": "code",
   "execution_count": 45,
   "metadata": {
    "collapsed": true
   },
   "outputs": [],
   "source": [
    "def classifyperson():\n",
    "    a = float(input('percentage of time spent playing video game'))\n",
    "    b = float(input('frequent filer miles earned per year?'))\n",
    "    c = float(input('literrs of ice cream consumed per year'))\n",
    "    data_all, labels = file2matrix('./resources/machinelearninginaction/Ch02/datingTestSet.txt')\n",
    "    normmat, ranges, minvals = autoNorm(data_all)\n",
    "    input_array = np.array([a,b,c])\n",
    "    results = classify0((input_array - minvals)/ranges, normmat, labels , 6)\n",
    "    print(results)\n",
    "    "
   ]
  },
  {
   "cell_type": "code",
   "execution_count": 46,
   "metadata": {},
   "outputs": [
    {
     "name": "stdout",
     "output_type": "stream",
     "text": [
      "percentage of time spent playing video game1\n",
      "frequent filer miles earned per year?1\n",
      "literrs of ice cream consumed per year1\n",
      "smallDoses\n"
     ]
    }
   ],
   "source": [
    "classifyperson()"
   ]
  },
  {
   "cell_type": "code",
   "execution_count": 59,
   "metadata": {
    "collapsed": true
   },
   "outputs": [],
   "source": [
    "def img2vector(filename):\n",
    "    returnvect = np.zeros((1,1024))\n",
    "    with open(filename) as fr:\n",
    "        for i in range(32):\n",
    "            linestr = fr.readline()\n",
    "            for j in range(32):\n",
    "                returnvect[0, 32*i + j] = int(linestr[j])\n",
    "    return returnvect "
   ]
  },
  {
   "cell_type": "code",
   "execution_count": 60,
   "metadata": {
    "collapsed": true
   },
   "outputs": [],
   "source": [
    "import os"
   ]
  },
  {
   "cell_type": "code",
   "execution_count": 61,
   "metadata": {
    "scrolled": true
   },
   "outputs": [
    {
     "data": {
      "text/plain": [
       "['0_0.txt',\n",
       " '0_1.txt',\n",
       " '0_10.txt',\n",
       " '0_100.txt',\n",
       " '0_101.txt',\n",
       " '0_102.txt',\n",
       " '0_103.txt',\n",
       " '0_104.txt',\n",
       " '0_105.txt',\n",
       " '0_106.txt',\n",
       " '0_107.txt',\n",
       " '0_108.txt',\n",
       " '0_109.txt',\n",
       " '0_11.txt',\n",
       " '0_110.txt',\n",
       " '0_111.txt',\n",
       " '0_112.txt',\n",
       " '0_113.txt',\n",
       " '0_114.txt',\n",
       " '0_115.txt',\n",
       " '0_116.txt',\n",
       " '0_117.txt',\n",
       " '0_118.txt',\n",
       " '0_119.txt',\n",
       " '0_12.txt',\n",
       " '0_120.txt',\n",
       " '0_121.txt',\n",
       " '0_122.txt',\n",
       " '0_123.txt',\n",
       " '0_124.txt',\n",
       " '0_125.txt',\n",
       " '0_126.txt',\n",
       " '0_127.txt',\n",
       " '0_128.txt',\n",
       " '0_129.txt',\n",
       " '0_13.txt',\n",
       " '0_130.txt',\n",
       " '0_131.txt',\n",
       " '0_132.txt',\n",
       " '0_133.txt',\n",
       " '0_134.txt',\n",
       " '0_135.txt',\n",
       " '0_136.txt',\n",
       " '0_137.txt',\n",
       " '0_138.txt',\n",
       " '0_139.txt',\n",
       " '0_14.txt',\n",
       " '0_140.txt',\n",
       " '0_141.txt',\n",
       " '0_142.txt',\n",
       " '0_143.txt',\n",
       " '0_144.txt',\n",
       " '0_145.txt',\n",
       " '0_146.txt',\n",
       " '0_147.txt',\n",
       " '0_148.txt',\n",
       " '0_149.txt',\n",
       " '0_15.txt',\n",
       " '0_150.txt',\n",
       " '0_151.txt',\n",
       " '0_152.txt',\n",
       " '0_153.txt',\n",
       " '0_154.txt',\n",
       " '0_155.txt',\n",
       " '0_156.txt',\n",
       " '0_157.txt',\n",
       " '0_158.txt',\n",
       " '0_159.txt',\n",
       " '0_16.txt',\n",
       " '0_160.txt',\n",
       " '0_161.txt',\n",
       " '0_162.txt',\n",
       " '0_163.txt',\n",
       " '0_164.txt',\n",
       " '0_165.txt',\n",
       " '0_166.txt',\n",
       " '0_167.txt',\n",
       " '0_168.txt',\n",
       " '0_169.txt',\n",
       " '0_17.txt',\n",
       " '0_170.txt',\n",
       " '0_171.txt',\n",
       " '0_172.txt',\n",
       " '0_173.txt',\n",
       " '0_174.txt',\n",
       " '0_175.txt',\n",
       " '0_176.txt',\n",
       " '0_177.txt',\n",
       " '0_178.txt',\n",
       " '0_179.txt',\n",
       " '0_18.txt',\n",
       " '0_180.txt',\n",
       " '0_181.txt',\n",
       " '0_182.txt',\n",
       " '0_183.txt',\n",
       " '0_184.txt',\n",
       " '0_185.txt',\n",
       " '0_186.txt',\n",
       " '0_187.txt',\n",
       " '0_188.txt',\n",
       " '0_19.txt',\n",
       " '0_2.txt',\n",
       " '0_20.txt',\n",
       " '0_21.txt',\n",
       " '0_22.txt',\n",
       " '0_23.txt',\n",
       " '0_24.txt',\n",
       " '0_25.txt',\n",
       " '0_26.txt',\n",
       " '0_27.txt',\n",
       " '0_28.txt',\n",
       " '0_29.txt',\n",
       " '0_3.txt',\n",
       " '0_30.txt',\n",
       " '0_31.txt',\n",
       " '0_32.txt',\n",
       " '0_33.txt',\n",
       " '0_34.txt',\n",
       " '0_35.txt',\n",
       " '0_36.txt',\n",
       " '0_37.txt',\n",
       " '0_38.txt',\n",
       " '0_39.txt',\n",
       " '0_4.txt',\n",
       " '0_40.txt',\n",
       " '0_41.txt',\n",
       " '0_42.txt',\n",
       " '0_43.txt',\n",
       " '0_44.txt',\n",
       " '0_45.txt',\n",
       " '0_46.txt',\n",
       " '0_47.txt',\n",
       " '0_48.txt',\n",
       " '0_49.txt',\n",
       " '0_5.txt',\n",
       " '0_50.txt',\n",
       " '0_51.txt',\n",
       " '0_52.txt',\n",
       " '0_53.txt',\n",
       " '0_54.txt',\n",
       " '0_55.txt',\n",
       " '0_56.txt',\n",
       " '0_57.txt',\n",
       " '0_58.txt',\n",
       " '0_59.txt',\n",
       " '0_6.txt',\n",
       " '0_60.txt',\n",
       " '0_61.txt',\n",
       " '0_62.txt',\n",
       " '0_63.txt',\n",
       " '0_64.txt',\n",
       " '0_65.txt',\n",
       " '0_66.txt',\n",
       " '0_67.txt',\n",
       " '0_68.txt',\n",
       " '0_69.txt',\n",
       " '0_7.txt',\n",
       " '0_70.txt',\n",
       " '0_71.txt',\n",
       " '0_72.txt',\n",
       " '0_73.txt',\n",
       " '0_74.txt',\n",
       " '0_75.txt',\n",
       " '0_76.txt',\n",
       " '0_77.txt',\n",
       " '0_78.txt',\n",
       " '0_79.txt',\n",
       " '0_8.txt',\n",
       " '0_80.txt',\n",
       " '0_81.txt',\n",
       " '0_82.txt',\n",
       " '0_83.txt',\n",
       " '0_84.txt',\n",
       " '0_85.txt',\n",
       " '0_86.txt',\n",
       " '0_87.txt',\n",
       " '0_88.txt',\n",
       " '0_89.txt',\n",
       " '0_9.txt',\n",
       " '0_90.txt',\n",
       " '0_91.txt',\n",
       " '0_92.txt',\n",
       " '0_93.txt',\n",
       " '0_94.txt',\n",
       " '0_95.txt',\n",
       " '0_96.txt',\n",
       " '0_97.txt',\n",
       " '0_98.txt',\n",
       " '0_99.txt',\n",
       " '1_0.txt',\n",
       " '1_1.txt',\n",
       " '1_10.txt',\n",
       " '1_100.txt',\n",
       " '1_101.txt',\n",
       " '1_102.txt',\n",
       " '1_103.txt',\n",
       " '1_104.txt',\n",
       " '1_105.txt',\n",
       " '1_106.txt',\n",
       " '1_107.txt',\n",
       " '1_108.txt',\n",
       " '1_109.txt',\n",
       " '1_11.txt',\n",
       " '1_110.txt',\n",
       " '1_111.txt',\n",
       " '1_112.txt',\n",
       " '1_113.txt',\n",
       " '1_114.txt',\n",
       " '1_115.txt',\n",
       " '1_116.txt',\n",
       " '1_117.txt',\n",
       " '1_118.txt',\n",
       " '1_119.txt',\n",
       " '1_12.txt',\n",
       " '1_120.txt',\n",
       " '1_121.txt',\n",
       " '1_122.txt',\n",
       " '1_123.txt',\n",
       " '1_124.txt',\n",
       " '1_125.txt',\n",
       " '1_126.txt',\n",
       " '1_127.txt',\n",
       " '1_128.txt',\n",
       " '1_129.txt',\n",
       " '1_13.txt',\n",
       " '1_130.txt',\n",
       " '1_131.txt',\n",
       " '1_132.txt',\n",
       " '1_133.txt',\n",
       " '1_134.txt',\n",
       " '1_135.txt',\n",
       " '1_136.txt',\n",
       " '1_137.txt',\n",
       " '1_138.txt',\n",
       " '1_139.txt',\n",
       " '1_14.txt',\n",
       " '1_140.txt',\n",
       " '1_141.txt',\n",
       " '1_142.txt',\n",
       " '1_143.txt',\n",
       " '1_144.txt',\n",
       " '1_145.txt',\n",
       " '1_146.txt',\n",
       " '1_147.txt',\n",
       " '1_148.txt',\n",
       " '1_149.txt',\n",
       " '1_15.txt',\n",
       " '1_150.txt',\n",
       " '1_151.txt',\n",
       " '1_152.txt',\n",
       " '1_153.txt',\n",
       " '1_154.txt',\n",
       " '1_155.txt',\n",
       " '1_156.txt',\n",
       " '1_157.txt',\n",
       " '1_158.txt',\n",
       " '1_159.txt',\n",
       " '1_16.txt',\n",
       " '1_160.txt',\n",
       " '1_161.txt',\n",
       " '1_162.txt',\n",
       " '1_163.txt',\n",
       " '1_164.txt',\n",
       " '1_165.txt',\n",
       " '1_166.txt',\n",
       " '1_167.txt',\n",
       " '1_168.txt',\n",
       " '1_169.txt',\n",
       " '1_17.txt',\n",
       " '1_170.txt',\n",
       " '1_171.txt',\n",
       " '1_172.txt',\n",
       " '1_173.txt',\n",
       " '1_174.txt',\n",
       " '1_175.txt',\n",
       " '1_176.txt',\n",
       " '1_177.txt',\n",
       " '1_178.txt',\n",
       " '1_179.txt',\n",
       " '1_18.txt',\n",
       " '1_180.txt',\n",
       " '1_181.txt',\n",
       " '1_182.txt',\n",
       " '1_183.txt',\n",
       " '1_184.txt',\n",
       " '1_185.txt',\n",
       " '1_186.txt',\n",
       " '1_187.txt',\n",
       " '1_188.txt',\n",
       " '1_189.txt',\n",
       " '1_19.txt',\n",
       " '1_190.txt',\n",
       " '1_191.txt',\n",
       " '1_192.txt',\n",
       " '1_193.txt',\n",
       " '1_194.txt',\n",
       " '1_195.txt',\n",
       " '1_196.txt',\n",
       " '1_197.txt',\n",
       " '1_2.txt',\n",
       " '1_20.txt',\n",
       " '1_21.txt',\n",
       " '1_22.txt',\n",
       " '1_23.txt',\n",
       " '1_24.txt',\n",
       " '1_25.txt',\n",
       " '1_26.txt',\n",
       " '1_27.txt',\n",
       " '1_28.txt',\n",
       " '1_29.txt',\n",
       " '1_3.txt',\n",
       " '1_30.txt',\n",
       " '1_31.txt',\n",
       " '1_32.txt',\n",
       " '1_33.txt',\n",
       " '1_34.txt',\n",
       " '1_35.txt',\n",
       " '1_36.txt',\n",
       " '1_37.txt',\n",
       " '1_38.txt',\n",
       " '1_39.txt',\n",
       " '1_4.txt',\n",
       " '1_40.txt',\n",
       " '1_41.txt',\n",
       " '1_42.txt',\n",
       " '1_43.txt',\n",
       " '1_44.txt',\n",
       " '1_45.txt',\n",
       " '1_46.txt',\n",
       " '1_47.txt',\n",
       " '1_48.txt',\n",
       " '1_49.txt',\n",
       " '1_5.txt',\n",
       " '1_50.txt',\n",
       " '1_51.txt',\n",
       " '1_52.txt',\n",
       " '1_53.txt',\n",
       " '1_54.txt',\n",
       " '1_55.txt',\n",
       " '1_56.txt',\n",
       " '1_57.txt',\n",
       " '1_58.txt',\n",
       " '1_59.txt',\n",
       " '1_6.txt',\n",
       " '1_60.txt',\n",
       " '1_61.txt',\n",
       " '1_62.txt',\n",
       " '1_63.txt',\n",
       " '1_64.txt',\n",
       " '1_65.txt',\n",
       " '1_66.txt',\n",
       " '1_67.txt',\n",
       " '1_68.txt',\n",
       " '1_69.txt',\n",
       " '1_7.txt',\n",
       " '1_70.txt',\n",
       " '1_71.txt',\n",
       " '1_72.txt',\n",
       " '1_73.txt',\n",
       " '1_74.txt',\n",
       " '1_75.txt',\n",
       " '1_76.txt',\n",
       " '1_77.txt',\n",
       " '1_78.txt',\n",
       " '1_79.txt',\n",
       " '1_8.txt',\n",
       " '1_80.txt',\n",
       " '1_81.txt',\n",
       " '1_82.txt',\n",
       " '1_83.txt',\n",
       " '1_84.txt',\n",
       " '1_85.txt',\n",
       " '1_86.txt',\n",
       " '1_87.txt',\n",
       " '1_88.txt',\n",
       " '1_89.txt',\n",
       " '1_9.txt',\n",
       " '1_90.txt',\n",
       " '1_91.txt',\n",
       " '1_92.txt',\n",
       " '1_93.txt',\n",
       " '1_94.txt',\n",
       " '1_95.txt',\n",
       " '1_96.txt',\n",
       " '1_97.txt',\n",
       " '1_98.txt',\n",
       " '1_99.txt',\n",
       " '2_0.txt',\n",
       " '2_1.txt',\n",
       " '2_10.txt',\n",
       " '2_100.txt',\n",
       " '2_101.txt',\n",
       " '2_102.txt',\n",
       " '2_103.txt',\n",
       " '2_104.txt',\n",
       " '2_105.txt',\n",
       " '2_106.txt',\n",
       " '2_107.txt',\n",
       " '2_108.txt',\n",
       " '2_109.txt',\n",
       " '2_11.txt',\n",
       " '2_110.txt',\n",
       " '2_111.txt',\n",
       " '2_112.txt',\n",
       " '2_113.txt',\n",
       " '2_114.txt',\n",
       " '2_115.txt',\n",
       " '2_116.txt',\n",
       " '2_117.txt',\n",
       " '2_118.txt',\n",
       " '2_119.txt',\n",
       " '2_12.txt',\n",
       " '2_120.txt',\n",
       " '2_121.txt',\n",
       " '2_122.txt',\n",
       " '2_123.txt',\n",
       " '2_124.txt',\n",
       " '2_125.txt',\n",
       " '2_126.txt',\n",
       " '2_127.txt',\n",
       " '2_128.txt',\n",
       " '2_129.txt',\n",
       " '2_13.txt',\n",
       " '2_130.txt',\n",
       " '2_131.txt',\n",
       " '2_132.txt',\n",
       " '2_133.txt',\n",
       " '2_134.txt',\n",
       " '2_135.txt',\n",
       " '2_136.txt',\n",
       " '2_137.txt',\n",
       " '2_138.txt',\n",
       " '2_139.txt',\n",
       " '2_14.txt',\n",
       " '2_140.txt',\n",
       " '2_141.txt',\n",
       " '2_142.txt',\n",
       " '2_143.txt',\n",
       " '2_144.txt',\n",
       " '2_145.txt',\n",
       " '2_146.txt',\n",
       " '2_147.txt',\n",
       " '2_148.txt',\n",
       " '2_149.txt',\n",
       " '2_15.txt',\n",
       " '2_150.txt',\n",
       " '2_151.txt',\n",
       " '2_152.txt',\n",
       " '2_153.txt',\n",
       " '2_154.txt',\n",
       " '2_155.txt',\n",
       " '2_156.txt',\n",
       " '2_157.txt',\n",
       " '2_158.txt',\n",
       " '2_159.txt',\n",
       " '2_16.txt',\n",
       " '2_160.txt',\n",
       " '2_161.txt',\n",
       " '2_162.txt',\n",
       " '2_163.txt',\n",
       " '2_164.txt',\n",
       " '2_165.txt',\n",
       " '2_166.txt',\n",
       " '2_167.txt',\n",
       " '2_168.txt',\n",
       " '2_169.txt',\n",
       " '2_17.txt',\n",
       " '2_170.txt',\n",
       " '2_171.txt',\n",
       " '2_172.txt',\n",
       " '2_173.txt',\n",
       " '2_174.txt',\n",
       " '2_175.txt',\n",
       " '2_176.txt',\n",
       " '2_177.txt',\n",
       " '2_178.txt',\n",
       " '2_179.txt',\n",
       " '2_18.txt',\n",
       " '2_180.txt',\n",
       " '2_181.txt',\n",
       " '2_182.txt',\n",
       " '2_183.txt',\n",
       " '2_184.txt',\n",
       " '2_185.txt',\n",
       " '2_186.txt',\n",
       " '2_187.txt',\n",
       " '2_188.txt',\n",
       " '2_189.txt',\n",
       " '2_19.txt',\n",
       " '2_190.txt',\n",
       " '2_191.txt',\n",
       " '2_192.txt',\n",
       " '2_193.txt',\n",
       " '2_194.txt',\n",
       " '2_2.txt',\n",
       " '2_20.txt',\n",
       " '2_21.txt',\n",
       " '2_22.txt',\n",
       " '2_23.txt',\n",
       " '2_24.txt',\n",
       " '2_25.txt',\n",
       " '2_26.txt',\n",
       " '2_27.txt',\n",
       " '2_28.txt',\n",
       " '2_29.txt',\n",
       " '2_3.txt',\n",
       " '2_30.txt',\n",
       " '2_31.txt',\n",
       " '2_32.txt',\n",
       " '2_33.txt',\n",
       " '2_34.txt',\n",
       " '2_35.txt',\n",
       " '2_36.txt',\n",
       " '2_37.txt',\n",
       " '2_38.txt',\n",
       " '2_39.txt',\n",
       " '2_4.txt',\n",
       " '2_40.txt',\n",
       " '2_41.txt',\n",
       " '2_42.txt',\n",
       " '2_43.txt',\n",
       " '2_44.txt',\n",
       " '2_45.txt',\n",
       " '2_46.txt',\n",
       " '2_47.txt',\n",
       " '2_48.txt',\n",
       " '2_49.txt',\n",
       " '2_5.txt',\n",
       " '2_50.txt',\n",
       " '2_51.txt',\n",
       " '2_52.txt',\n",
       " '2_53.txt',\n",
       " '2_54.txt',\n",
       " '2_55.txt',\n",
       " '2_56.txt',\n",
       " '2_57.txt',\n",
       " '2_58.txt',\n",
       " '2_59.txt',\n",
       " '2_6.txt',\n",
       " '2_60.txt',\n",
       " '2_61.txt',\n",
       " '2_62.txt',\n",
       " '2_63.txt',\n",
       " '2_64.txt',\n",
       " '2_65.txt',\n",
       " '2_66.txt',\n",
       " '2_67.txt',\n",
       " '2_68.txt',\n",
       " '2_69.txt',\n",
       " '2_7.txt',\n",
       " '2_70.txt',\n",
       " '2_71.txt',\n",
       " '2_72.txt',\n",
       " '2_73.txt',\n",
       " '2_74.txt',\n",
       " '2_75.txt',\n",
       " '2_76.txt',\n",
       " '2_77.txt',\n",
       " '2_78.txt',\n",
       " '2_79.txt',\n",
       " '2_8.txt',\n",
       " '2_80.txt',\n",
       " '2_81.txt',\n",
       " '2_82.txt',\n",
       " '2_83.txt',\n",
       " '2_84.txt',\n",
       " '2_85.txt',\n",
       " '2_86.txt',\n",
       " '2_87.txt',\n",
       " '2_88.txt',\n",
       " '2_89.txt',\n",
       " '2_9.txt',\n",
       " '2_90.txt',\n",
       " '2_91.txt',\n",
       " '2_92.txt',\n",
       " '2_93.txt',\n",
       " '2_94.txt',\n",
       " '2_95.txt',\n",
       " '2_96.txt',\n",
       " '2_97.txt',\n",
       " '2_98.txt',\n",
       " '2_99.txt',\n",
       " '3_0.txt',\n",
       " '3_1.txt',\n",
       " '3_10.txt',\n",
       " '3_100.txt',\n",
       " '3_101.txt',\n",
       " '3_102.txt',\n",
       " '3_103.txt',\n",
       " '3_104.txt',\n",
       " '3_105.txt',\n",
       " '3_106.txt',\n",
       " '3_107.txt',\n",
       " '3_108.txt',\n",
       " '3_109.txt',\n",
       " '3_11.txt',\n",
       " '3_110.txt',\n",
       " '3_111.txt',\n",
       " '3_112.txt',\n",
       " '3_113.txt',\n",
       " '3_114.txt',\n",
       " '3_115.txt',\n",
       " '3_116.txt',\n",
       " '3_117.txt',\n",
       " '3_118.txt',\n",
       " '3_119.txt',\n",
       " '3_12.txt',\n",
       " '3_120.txt',\n",
       " '3_121.txt',\n",
       " '3_122.txt',\n",
       " '3_123.txt',\n",
       " '3_124.txt',\n",
       " '3_125.txt',\n",
       " '3_126.txt',\n",
       " '3_127.txt',\n",
       " '3_128.txt',\n",
       " '3_129.txt',\n",
       " '3_13.txt',\n",
       " '3_130.txt',\n",
       " '3_131.txt',\n",
       " '3_132.txt',\n",
       " '3_133.txt',\n",
       " '3_134.txt',\n",
       " '3_135.txt',\n",
       " '3_136.txt',\n",
       " '3_137.txt',\n",
       " '3_138.txt',\n",
       " '3_139.txt',\n",
       " '3_14.txt',\n",
       " '3_140.txt',\n",
       " '3_141.txt',\n",
       " '3_142.txt',\n",
       " '3_143.txt',\n",
       " '3_144.txt',\n",
       " '3_145.txt',\n",
       " '3_146.txt',\n",
       " '3_147.txt',\n",
       " '3_148.txt',\n",
       " '3_149.txt',\n",
       " '3_15.txt',\n",
       " '3_150.txt',\n",
       " '3_151.txt',\n",
       " '3_152.txt',\n",
       " '3_153.txt',\n",
       " '3_154.txt',\n",
       " '3_155.txt',\n",
       " '3_156.txt',\n",
       " '3_157.txt',\n",
       " '3_158.txt',\n",
       " '3_159.txt',\n",
       " '3_16.txt',\n",
       " '3_160.txt',\n",
       " '3_161.txt',\n",
       " '3_162.txt',\n",
       " '3_163.txt',\n",
       " '3_164.txt',\n",
       " '3_165.txt',\n",
       " '3_166.txt',\n",
       " '3_167.txt',\n",
       " '3_168.txt',\n",
       " '3_169.txt',\n",
       " '3_17.txt',\n",
       " '3_170.txt',\n",
       " '3_171.txt',\n",
       " '3_172.txt',\n",
       " '3_173.txt',\n",
       " '3_174.txt',\n",
       " '3_175.txt',\n",
       " '3_176.txt',\n",
       " '3_177.txt',\n",
       " '3_178.txt',\n",
       " '3_179.txt',\n",
       " '3_18.txt',\n",
       " '3_180.txt',\n",
       " '3_181.txt',\n",
       " '3_182.txt',\n",
       " '3_183.txt',\n",
       " '3_184.txt',\n",
       " '3_185.txt',\n",
       " '3_186.txt',\n",
       " '3_187.txt',\n",
       " '3_188.txt',\n",
       " '3_189.txt',\n",
       " '3_19.txt',\n",
       " '3_190.txt',\n",
       " '3_191.txt',\n",
       " '3_192.txt',\n",
       " '3_193.txt',\n",
       " '3_194.txt',\n",
       " '3_195.txt',\n",
       " '3_196.txt',\n",
       " '3_197.txt',\n",
       " '3_198.txt',\n",
       " '3_2.txt',\n",
       " '3_20.txt',\n",
       " '3_21.txt',\n",
       " '3_22.txt',\n",
       " '3_23.txt',\n",
       " '3_24.txt',\n",
       " '3_25.txt',\n",
       " '3_26.txt',\n",
       " '3_27.txt',\n",
       " '3_28.txt',\n",
       " '3_29.txt',\n",
       " '3_3.txt',\n",
       " '3_30.txt',\n",
       " '3_31.txt',\n",
       " '3_32.txt',\n",
       " '3_33.txt',\n",
       " '3_34.txt',\n",
       " '3_35.txt',\n",
       " '3_36.txt',\n",
       " '3_37.txt',\n",
       " '3_38.txt',\n",
       " '3_39.txt',\n",
       " '3_4.txt',\n",
       " '3_40.txt',\n",
       " '3_41.txt',\n",
       " '3_42.txt',\n",
       " '3_43.txt',\n",
       " '3_44.txt',\n",
       " '3_45.txt',\n",
       " '3_46.txt',\n",
       " '3_47.txt',\n",
       " '3_48.txt',\n",
       " '3_49.txt',\n",
       " '3_5.txt',\n",
       " '3_50.txt',\n",
       " '3_51.txt',\n",
       " '3_52.txt',\n",
       " '3_53.txt',\n",
       " '3_54.txt',\n",
       " '3_55.txt',\n",
       " '3_56.txt',\n",
       " '3_57.txt',\n",
       " '3_58.txt',\n",
       " '3_59.txt',\n",
       " '3_6.txt',\n",
       " '3_60.txt',\n",
       " '3_61.txt',\n",
       " '3_62.txt',\n",
       " '3_63.txt',\n",
       " '3_64.txt',\n",
       " '3_65.txt',\n",
       " '3_66.txt',\n",
       " '3_67.txt',\n",
       " '3_68.txt',\n",
       " '3_69.txt',\n",
       " '3_7.txt',\n",
       " '3_70.txt',\n",
       " '3_71.txt',\n",
       " '3_72.txt',\n",
       " '3_73.txt',\n",
       " '3_74.txt',\n",
       " '3_75.txt',\n",
       " '3_76.txt',\n",
       " '3_77.txt',\n",
       " '3_78.txt',\n",
       " '3_79.txt',\n",
       " '3_8.txt',\n",
       " '3_80.txt',\n",
       " '3_81.txt',\n",
       " '3_82.txt',\n",
       " '3_83.txt',\n",
       " '3_84.txt',\n",
       " '3_85.txt',\n",
       " '3_86.txt',\n",
       " '3_87.txt',\n",
       " '3_88.txt',\n",
       " '3_89.txt',\n",
       " '3_9.txt',\n",
       " '3_90.txt',\n",
       " '3_91.txt',\n",
       " '3_92.txt',\n",
       " '3_93.txt',\n",
       " '3_94.txt',\n",
       " '3_95.txt',\n",
       " '3_96.txt',\n",
       " '3_97.txt',\n",
       " '3_98.txt',\n",
       " '3_99.txt',\n",
       " '4_0.txt',\n",
       " '4_1.txt',\n",
       " '4_10.txt',\n",
       " '4_100.txt',\n",
       " '4_101.txt',\n",
       " '4_102.txt',\n",
       " '4_103.txt',\n",
       " '4_104.txt',\n",
       " '4_105.txt',\n",
       " '4_106.txt',\n",
       " '4_107.txt',\n",
       " '4_108.txt',\n",
       " '4_109.txt',\n",
       " '4_11.txt',\n",
       " '4_110.txt',\n",
       " '4_111.txt',\n",
       " '4_112.txt',\n",
       " '4_113.txt',\n",
       " '4_114.txt',\n",
       " '4_115.txt',\n",
       " '4_116.txt',\n",
       " '4_117.txt',\n",
       " '4_118.txt',\n",
       " '4_119.txt',\n",
       " '4_12.txt',\n",
       " '4_120.txt',\n",
       " '4_121.txt',\n",
       " '4_122.txt',\n",
       " '4_123.txt',\n",
       " '4_124.txt',\n",
       " '4_125.txt',\n",
       " '4_126.txt',\n",
       " '4_127.txt',\n",
       " '4_128.txt',\n",
       " '4_129.txt',\n",
       " '4_13.txt',\n",
       " '4_130.txt',\n",
       " '4_131.txt',\n",
       " '4_132.txt',\n",
       " '4_133.txt',\n",
       " '4_134.txt',\n",
       " '4_135.txt',\n",
       " '4_136.txt',\n",
       " '4_137.txt',\n",
       " '4_138.txt',\n",
       " '4_139.txt',\n",
       " '4_14.txt',\n",
       " '4_140.txt',\n",
       " '4_141.txt',\n",
       " '4_142.txt',\n",
       " '4_143.txt',\n",
       " '4_144.txt',\n",
       " '4_145.txt',\n",
       " '4_146.txt',\n",
       " '4_147.txt',\n",
       " '4_148.txt',\n",
       " '4_149.txt',\n",
       " '4_15.txt',\n",
       " '4_150.txt',\n",
       " '4_151.txt',\n",
       " '4_152.txt',\n",
       " '4_153.txt',\n",
       " '4_154.txt',\n",
       " '4_155.txt',\n",
       " '4_156.txt',\n",
       " '4_157.txt',\n",
       " '4_158.txt',\n",
       " '4_159.txt',\n",
       " '4_16.txt',\n",
       " '4_160.txt',\n",
       " '4_161.txt',\n",
       " '4_162.txt',\n",
       " '4_163.txt',\n",
       " '4_164.txt',\n",
       " '4_165.txt',\n",
       " '4_166.txt',\n",
       " '4_167.txt',\n",
       " '4_168.txt',\n",
       " '4_169.txt',\n",
       " '4_17.txt',\n",
       " '4_170.txt',\n",
       " '4_171.txt',\n",
       " '4_172.txt',\n",
       " '4_173.txt',\n",
       " '4_174.txt',\n",
       " '4_175.txt',\n",
       " '4_176.txt',\n",
       " '4_177.txt',\n",
       " '4_178.txt',\n",
       " '4_179.txt',\n",
       " '4_18.txt',\n",
       " '4_180.txt',\n",
       " '4_181.txt',\n",
       " '4_182.txt',\n",
       " '4_183.txt',\n",
       " '4_184.txt',\n",
       " '4_185.txt',\n",
       " '4_19.txt',\n",
       " '4_2.txt',\n",
       " '4_20.txt',\n",
       " '4_21.txt',\n",
       " '4_22.txt',\n",
       " '4_23.txt',\n",
       " '4_24.txt',\n",
       " '4_25.txt',\n",
       " '4_26.txt',\n",
       " '4_27.txt',\n",
       " '4_28.txt',\n",
       " '4_29.txt',\n",
       " '4_3.txt',\n",
       " '4_30.txt',\n",
       " '4_31.txt',\n",
       " '4_32.txt',\n",
       " '4_33.txt',\n",
       " '4_34.txt',\n",
       " '4_35.txt',\n",
       " '4_36.txt',\n",
       " '4_37.txt',\n",
       " '4_38.txt',\n",
       " '4_39.txt',\n",
       " '4_4.txt',\n",
       " '4_40.txt',\n",
       " '4_41.txt',\n",
       " '4_42.txt',\n",
       " '4_43.txt',\n",
       " '4_44.txt',\n",
       " '4_45.txt',\n",
       " '4_46.txt',\n",
       " '4_47.txt',\n",
       " '4_48.txt',\n",
       " '4_49.txt',\n",
       " '4_5.txt',\n",
       " '4_50.txt',\n",
       " '4_51.txt',\n",
       " '4_52.txt',\n",
       " '4_53.txt',\n",
       " '4_54.txt',\n",
       " '4_55.txt',\n",
       " '4_56.txt',\n",
       " '4_57.txt',\n",
       " '4_58.txt',\n",
       " '4_59.txt',\n",
       " '4_6.txt',\n",
       " '4_60.txt',\n",
       " '4_61.txt',\n",
       " '4_62.txt',\n",
       " '4_63.txt',\n",
       " '4_64.txt',\n",
       " '4_65.txt',\n",
       " '4_66.txt',\n",
       " '4_67.txt',\n",
       " '4_68.txt',\n",
       " '4_69.txt',\n",
       " '4_7.txt',\n",
       " '4_70.txt',\n",
       " '4_71.txt',\n",
       " '4_72.txt',\n",
       " '4_73.txt',\n",
       " '4_74.txt',\n",
       " '4_75.txt',\n",
       " '4_76.txt',\n",
       " '4_77.txt',\n",
       " '4_78.txt',\n",
       " '4_79.txt',\n",
       " '4_8.txt',\n",
       " '4_80.txt',\n",
       " '4_81.txt',\n",
       " '4_82.txt',\n",
       " '4_83.txt',\n",
       " '4_84.txt',\n",
       " '4_85.txt',\n",
       " '4_86.txt',\n",
       " '4_87.txt',\n",
       " '4_88.txt',\n",
       " '4_89.txt',\n",
       " '4_9.txt',\n",
       " '4_90.txt',\n",
       " '4_91.txt',\n",
       " '4_92.txt',\n",
       " '4_93.txt',\n",
       " '4_94.txt',\n",
       " '4_95.txt',\n",
       " '4_96.txt',\n",
       " '4_97.txt',\n",
       " '4_98.txt',\n",
       " '4_99.txt',\n",
       " '5_0.txt',\n",
       " '5_1.txt',\n",
       " '5_10.txt',\n",
       " '5_100.txt',\n",
       " '5_101.txt',\n",
       " '5_102.txt',\n",
       " '5_103.txt',\n",
       " '5_104.txt',\n",
       " '5_105.txt',\n",
       " '5_106.txt',\n",
       " '5_107.txt',\n",
       " '5_108.txt',\n",
       " '5_109.txt',\n",
       " '5_11.txt',\n",
       " '5_110.txt',\n",
       " '5_111.txt',\n",
       " '5_112.txt',\n",
       " '5_113.txt',\n",
       " '5_114.txt',\n",
       " '5_115.txt',\n",
       " '5_116.txt',\n",
       " '5_117.txt',\n",
       " '5_118.txt',\n",
       " '5_119.txt',\n",
       " '5_12.txt',\n",
       " '5_120.txt',\n",
       " '5_121.txt',\n",
       " '5_122.txt',\n",
       " '5_123.txt',\n",
       " '5_124.txt',\n",
       " '5_125.txt',\n",
       " '5_126.txt',\n",
       " '5_127.txt',\n",
       " ...]"
      ]
     },
     "execution_count": 61,
     "metadata": {},
     "output_type": "execute_result"
    }
   ],
   "source": [
    "os.listdir('./resources/machinelearninginaction/Ch02/trainingDigits/')"
   ]
  },
  {
   "cell_type": "code",
   "execution_count": 62,
   "metadata": {
    "collapsed": true
   },
   "outputs": [],
   "source": [
    "def handwritingclasstest():\n",
    "    labels=[]\n",
    "    traininglist = os.listdir('./resources/machinelearninginaction/Ch02/trainingDigits/')\n",
    "    m = len(traininglist)\n",
    "    trainmat = np.zeros((m, 1024))\n",
    "    j = 0\n",
    "    for i in traininglist:\n",
    "        str1 = i.split('_')[0]\n",
    "        labels.append(str1)\n",
    "        trainmat[j,:] = img2vector('./resources/machinelearninginaction/Ch02/trainingDigits/' + i)\n",
    "        j +=1\n",
    "    testlist = os.listdir('./resources/machinelearninginaction/Ch02/trainingDigits/')\n",
    "    error_count = 0\n",
    "    num = 1\n",
    "    for a in testlist:\n",
    "        vectortest = img2vector('./resources/machinelearninginaction/Ch02/trainingDigits/' + a)\n",
    "        true_re = a.split('_')[0]\n",
    "        classifyresult = classify0(vectortest, trainmat, labels, 3)\n",
    "        num += 1\n",
    "        if classifyresult != true_re:\n",
    "            error_count +=1\n",
    "    return(error_count/num)"
   ]
  },
  {
   "cell_type": "code",
   "execution_count": 64,
   "metadata": {},
   "outputs": [
    {
     "data": {
      "text/plain": [
       "0.011886304909560724"
      ]
     },
     "execution_count": 64,
     "metadata": {},
     "output_type": "execute_result"
    }
   ],
   "source": [
    "handwritingclasstest()"
   ]
  }
 ],
 "metadata": {
  "kernelspec": {
   "display_name": "Python 3",
   "language": "python",
   "name": "python3"
  },
  "language_info": {
   "codemirror_mode": {
    "name": "ipython",
    "version": 3
   },
   "file_extension": ".py",
   "mimetype": "text/x-python",
   "name": "python",
   "nbconvert_exporter": "python",
   "pygments_lexer": "ipython3",
   "version": "3.6.3"
  }
 },
 "nbformat": 4,
 "nbformat_minor": 2
}
