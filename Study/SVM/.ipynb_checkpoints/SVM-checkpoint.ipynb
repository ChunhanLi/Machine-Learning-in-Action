{
 "cells": [
  {
   "cell_type": "markdown",
   "metadata": {},
   "source": [
    "### 统计学习方法 SVM Python实现\n",
    "\n",
    "**此章节没有参考机器学习实战中SVM的内容进行编程，因为其算法好像和统计学习方法中有些出入，所以此章节将学习这个[老哥](https://github.com/WenDesi/lihang_book_algorithm/blob/master/svm/svm.py)对SVM方法的重现**\n",
    "\n",
    "- 原博主采用的是Python2, 这里使用的python3\n",
    "- 原博主没有使用numpy包, 这里借助numpy包将运算向量化，矩阵化\n",
    "- 这里的部分细节与原博主中有些出入"
   ]
  },
  {
   "cell_type": "code",
   "execution_count": 1,
   "metadata": {},
   "outputs": [],
   "source": [
    "import matplotlib.pyplot as plt\n",
    "import pandas as pd\n",
    "import numpy as np\n",
    "from sklearn.model_selection import train_test_split\n",
    "from sklearn.svm import SVC\n",
    "import warnings\n",
    "warnings.filterwarnings(\"ignore\")\n",
    "%matplotlib inline"
   ]
  },
  {
   "cell_type": "code",
   "execution_count": 2,
   "metadata": {},
   "outputs": [],
   "source": [
    "### 依然采用机器学习实战中的数据\n",
    "def loadDataSet(filename):\n",
    "    \"\"\"get dataset\"\"\"\n",
    "    dataMat=[]\n",
    "    labelMat=[]\n",
    "    with open(filename) as f:\n",
    "        for line in f.readlines():\n",
    "            linestrip = line.strip().split('\\t')\n",
    "            dataMat.append([float(linestrip[0]), float(linestrip[1])])\n",
    "            labelMat.append(float(linestrip[2]))\n",
    "    return dataMat, labelMat"
   ]
  },
  {
   "cell_type": "code",
   "execution_count": 3,
   "metadata": {
    "scrolled": true
   },
   "outputs": [
    {
     "data": {
      "text/plain": [
       "Text(0, 0.5, 'Y')"
      ]
     },
     "execution_count": 3,
     "metadata": {},
     "output_type": "execute_result"
    },
    {
     "data": {
      "image/png": "[encoded data removed]",
      "text/plain": [
       "<Figure size 432x288 with 1 Axes>"
      ]
     },
     "metadata": {
      "needs_background": "light"
     },
     "output_type": "display_data"
    }
   ],
   "source": [
    "### get data\n",
    "data, label = loadDataSet('testSet.txt')\n",
    "### visualization\n",
    "xs=[]\n",
    "ys=[]\n",
    "for t in data:\n",
    "    xs.append(t[0])\n",
    "    ys.append(t[1])\n",
    "true_ind = list(pd.Series(label) == 1)\n",
    "false_ind = list(~(pd.Series(label) == 1))\n",
    "plt.plot(pd.Series(xs)[true_ind],pd.Series(ys)[true_ind], 'or' )\n",
    "plt.plot(pd.Series(xs)[false_ind],pd.Series(ys)[false_ind], 'ob')\n",
    "plt.title('Sample')\n",
    "plt.xlabel('X')\n",
    "plt.ylabel('Y')"
   ]
  },
  {
   "cell_type": "code",
   "execution_count": 4,
   "metadata": {},
   "outputs": [],
   "source": [
    "data = np.array(data)\n",
    "label=np.array(label)"
   ]
  },
  {
   "cell_type": "code",
   "execution_count": 5,
   "metadata": {},
   "outputs": [],
   "source": [
    "class SVM():\n",
    "    def __init__(self, kernel='linear', epsilon = 0.001, C = 1.0):\n",
    "        \"\"\"\n",
    "        C:惩罚系数\n",
    "        \"\"\"\n",
    "        self.kernel = kernel\n",
    "        self.C = C\n",
    "        self.epsilon = epsilon\n",
    "    \n",
    "    def _init_parameters(self, features, labels):\n",
    "        \"\"\"\n",
    "        (features,labels)  np.array\n",
    "        \n",
    "        \"\"\"\n",
    "        self.X = features\n",
    "        self.Y = labels\n",
    "        self.b = 0.0\n",
    "        self.n = features.shape[0]\n",
    "        self.p = features.shape[1]\n",
    "        self.alpha = np.zeros(self.n)\n",
    "        self.E = [self._get_E(i) for i in range(self.n)]\n",
    "        self.Max_iteration = 20000\n",
    "    \n",
    "    def _gx(self,i):\n",
    "        \"\"\"\n",
    "        i: 第i+1个样本(start from 0 and end with N-1)\n",
    "        \"\"\"\n",
    "        g_x_i = (self.alpha * self.Y).T @ (self.X @ self.X[i,:]) + self.b\n",
    "        return g_x_i\n",
    "    \n",
    "    def _get_E(self,i):\n",
    "        \"\"\"\n",
    "        i: 第i+1个样本(start from 0 and end with N-1)\n",
    "        \"\"\"\n",
    "        E_i = self._gx(i) - self.Y[i]\n",
    "        return E_i\n",
    "    \n",
    "    def _satisfy_KKT(self, i):\n",
    "        ygx = self.Y[i] * self._gx(i)\n",
    "        if abs(self.alpha[i]) <= self.epsilon:\n",
    "            return ygx >= 1\n",
    "        elif abs(self.alpha[i] - self.C) <= self.epsilon:\n",
    "            return ygx <= 1\n",
    "        else:\n",
    "            return abs(ygx-1) <= self.epsilon\n",
    "        \n",
    "    def is_stop(self):\n",
    "        for i in range(self.n):\n",
    "            satisfy = self._satisfy_KKT(i)\n",
    "            \n",
    "            if not satisfy:\n",
    "                return False\n",
    "        return True\n",
    "    \n",
    "    def _select_two_alpha(self):\n",
    "        index_i = list(range(self.n))\n",
    "        i_list_1 = list(filter(lambda i: self.alpha[i] > 0 + self.epsilon and self.alpha[i] < self.C - self.epsilon, index_i))\n",
    "        i_list_2 = list(set(index_i) - set(i_list_1))\n",
    "                \n",
    "        for i in i_list_1:\n",
    "            ### 第一步\n",
    "            if self._satisfy_KKT(i):\n",
    "                continue\n",
    "            E_1 = self._get_E(i)\n",
    "            E2_E1 = np.abs(self.E - E_1)\n",
    "            j = E2_E1.argmax()\n",
    "            #print(i,j)\n",
    "            return i, j\n",
    "        for i in i_list_2:\n",
    "            if self._satisfy_KKT(i):\n",
    "                continue\n",
    "            E_1 = self._get_E(i)\n",
    "            E2_E1 = np.abs(self.E - E_1)\n",
    "            j = E2_E1.argmax()\n",
    "            #print(i,j)\n",
    "            return i, j\n",
    "        \n",
    "#             j_max = 999\n",
    "#             diff_max\n",
    "#             ### 第二步\n",
    "#             for j in index_i:\n",
    "#                 if i == j:\n",
    "#                     continue\n",
    "#                 E_2 = self._get_E(j)\n",
    "#                 diff = abs(E_2 - E_1)\n",
    "#                 if diff > diff_max:\n",
    "#                     diff_max = diff\n",
    "#                     j_max = j\n",
    "#             return i, j_max\n",
    "    \n",
    "#     def _K_(self):\n",
    "#         \"\"\"\n",
    "#         暂时先不考虑核函数\n",
    "#         \"\"\"\n",
    "    def train(self, features, labels):\n",
    "        \n",
    "        self._init_parameters(features, labels)\n",
    "        for times in range(self.Max_iteration):\n",
    "            #print(times)\n",
    "            if self.is_stop():\n",
    "                break\n",
    "            i1, i2 = self._select_two_alpha()\n",
    "            \n",
    "            if self.Y[i1] == self.Y[i2]:\n",
    "                L = max(0, self.alpha[i2] + self.alpha[i1] - self.C)\n",
    "                H = min(self.C, self.alpha[i2] + self.alpha[i1])\n",
    "            else:\n",
    "                L = max(0, self.alpha[i2] - self.alpha[i1])\n",
    "                H = min(self.C, self.C + self.alpha[i2] - self.alpha[i1])\n",
    "            E1 = self.E[i1]\n",
    "            E2 = self.E[i2]\n",
    "            ###要改kernel这里得改\n",
    "            eta = self.X[i1,:] @ self.X[i1,:] + self.X[i2,:] @ self.X[i2,:] -2 * self.X[i1,:] @ self.X[i2,:]\n",
    "            alpha2_new_unre = self.alpha[i2] + self.Y[i2] * (E1 - E2) / eta\n",
    "            \n",
    "            if alpha2_new_unre > H:\n",
    "                alpha2_new = H\n",
    "            elif alpha2_new_unre < L:\n",
    "                alpha2_new = L\n",
    "            else:\n",
    "                alpha2_new = alpha2_new_unre\n",
    "            alpha1_new = self.alpha[i1] + self.Y[i1] * self.Y[i2] * (self.alpha[i2] - alpha2_new)\n",
    "            \n",
    "            \n",
    "            ###要改kernel这里得改\n",
    "            b1_new = -E1 - self.Y[i1]* (self.X[i1,:] @ self.X[i1,:]) * (alpha1_new - self.alpha[i1]) - \\\n",
    "                    self.Y[i2] * (self.X[i2,:] @ self.X[i1,:]) * (alpha2_new - self.alpha[i2]) + self.b \n",
    "            ###要改kernel这里得改\n",
    "            b2_new = -E2 - self.Y[i1]* (self.X[i1,:] @ self.X[i2,:]) * (alpha1_new - self.alpha[i1]) - \\\n",
    "                    self.Y[i2] * (self.X[i2,:] @ self.X[i2,:]) * (alpha2_new - self.alpha[i2]) + self.b \n",
    "            \n",
    "            if alpha1_new > 0 + self.epsilon and alpha1_new < self.C - self.epsilon:\n",
    "                b_new = b1_new\n",
    "            elif alpha2_new > 0 + self.epsilon and alpha2_new < self.C - self.epsilon:\n",
    "                b_new = b2_new\n",
    "            else:\n",
    "                b_new = (b1_new + b2_new)/2\n",
    "            \n",
    "            self.alpha[i1] = alpha1_new\n",
    "            self.alpha[i2] = alpha2_new\n",
    "            self.b = b_new\n",
    "            ### 和原博主不一样\n",
    "            self.E = [self._get_E(i) for i in range(self.n)]\n",
    "        #print(times)\n",
    "    \n",
    "    def _predict_(self, feature):\n",
    "        \"\"\"\n",
    "        这里feature是p X 1 维的 （单个样本）\n",
    "        \"\"\"\n",
    "        result = (self.alpha * self.Y).T @ (self.X @ feature) + self.b\n",
    "        if result >=0 :\n",
    "            return 1\n",
    "        return -1\n",
    "    def predict(self, features):\n",
    "        results = []\n",
    "        \n",
    "        for i in range(features.shape[0]):\n",
    "            results.append(self._predict_(features[i,:]))\n",
    "        return np.array(results)"
   ]
  },
  {
   "cell_type": "code",
   "execution_count": 6,
   "metadata": {},
   "outputs": [],
   "source": [
    "X_train, X_test, y_train, y_test = train_test_split(data, label, test_size = 0.3, random_state = 1103)"
   ]
  },
  {
   "cell_type": "code",
   "execution_count": 7,
   "metadata": {},
   "outputs": [],
   "source": [
    "SVM_my = SVM()\n",
    "SVC_sk = SVC()"
   ]
  },
  {
   "cell_type": "code",
   "execution_count": 8,
   "metadata": {},
   "outputs": [
    {
     "name": "stdout",
     "output_type": "stream",
     "text": [
      "7.1 s ± 44.4 ms per loop (mean ± std. dev. of 7 runs, 1 loop each)\n"
     ]
    }
   ],
   "source": [
    "%timeit SVM_my.train(X_train, y_train)\n",
    "result_my = SVM_my.predict(X_test)"
   ]
  },
  {
   "cell_type": "code",
   "execution_count": 9,
   "metadata": {},
   "outputs": [
    {
     "name": "stdout",
     "output_type": "stream",
     "text": [
      "430 µs ± 20.9 µs per loop (mean ± std. dev. of 7 runs, 1000 loops each)\n"
     ]
    }
   ],
   "source": [
    "%timeit SVC_sk.fit(X_train, y_train)\n",
    "result_sk = SVC_sk.predict(X_test)"
   ]
  },
  {
   "cell_type": "code",
   "execution_count": 10,
   "metadata": {},
   "outputs": [
    {
     "data": {
      "text/plain": [
       "array([ True,  True,  True,  True,  True,  True,  True,  True,  True,\n",
       "        True,  True,  True,  True,  True,  True,  True,  True,  True,\n",
       "        True,  True,  True,  True,  True,  True,  True,  True,  True,\n",
       "        True,  True,  True])"
      ]
     },
     "execution_count": 10,
     "metadata": {},
     "output_type": "execute_result"
    }
   ],
   "source": [
    "result_sk == result_my"
   ]
  },
  {
   "cell_type": "code",
   "execution_count": 11,
   "metadata": {},
   "outputs": [
    {
     "data": {
      "text/plain": [
       "array([ True,  True,  True,  True,  True,  True,  True,  True,  True,\n",
       "        True,  True,  True,  True,  True,  True,  True,  True,  True,\n",
       "        True,  True,  True,  True,  True,  True,  True,  True,  True,\n",
       "        True,  True,  True])"
      ]
     },
     "execution_count": 11,
     "metadata": {},
     "output_type": "execute_result"
    }
   ],
   "source": [
    "y_test == result_my"
   ]
  },
  {
   "cell_type": "markdown",
   "metadata": {},
   "source": [
    "### 总结\n",
    "- 可以看出这个运行的时间和专业的还是有很大差距的。毕竟人家是专业的包,我写这个的目的也是只是在于浅层次的重现下SVM算法，帮助自己更好的了解。\n",
    "- 另外，看最后的结果还是很不错的。但毕竟因为原来的数据基本上线性可分，如果遇到复杂的数据，也许结果就没这么好了.\n",
    "- testSet1.txt中我把正负分类中各找了6个样本，调换了label. 最后结果一定程度取决于random_state.基本上还是不错的,这里没有给出展示。"
   ]
  }
 ],
 "metadata": {
  "kernelspec": {
   "display_name": "Python 3",
   "language": "python",
   "name": "python3"
  },
  "language_info": {
   "codemirror_mode": {
    "name": "ipython",
    "version": 3
   },
   "file_extension": ".py",
   "mimetype": "text/x-python",
   "name": "python",
   "nbconvert_exporter": "python",
   "pygments_lexer": "ipython3",
   "version": "3.7.2"
  }
 },
 "nbformat": 4,
 "nbformat_minor": 2
}
